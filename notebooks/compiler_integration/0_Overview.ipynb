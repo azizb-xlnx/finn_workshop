{
 "cells": [
  {
   "cell_type": "markdown",
   "metadata": {},
   "source": [
    "# Compiler integration: RTL Module\n",
    "\n",
    "These notebooks are intended to detail the FINN compiler integration flow for an RTL module, using a thresholding RTL module as an example."
   ]
  },
  {
   "cell_type": "markdown",
   "metadata": {},
   "source": [
    "## Custom Op\n",
    "![Class Structure](img/class_hir.jpg)\n",
    "\n",
    "A custom op in FINN context is a generic operation derived from the QONNX CustomOP base class seen __[here](https://github.com/fastmachinelearning/qonnx/blob/main/src/qonnx/custom_op/base.py)__. As such, it is possible to provide arbitrary execution and code generation paths for FINN custom ops.\n",
    "\n",
    "![Thresholding Class](img/class_hir_example.jpg)\n",
    "The focus of these notebooks will be a Thresholding custom op with RTL/CPP Execution with an RTL code generation path.\n",
    "\n",
    "## Supported FINN custom ops\n",
    "![OP Types](img/op_types.jpg)\n",
    "\n"
   ]
  }
 ],
 "metadata": {
  "kernelspec": {
   "display_name": "Python 3 (ipykernel)",
   "language": "python",
   "name": "python3"
  },
  "language_info": {
   "codemirror_mode": {
    "name": "ipython",
    "version": 3
   },
   "file_extension": ".py",
   "mimetype": "text/x-python",
   "name": "python",
   "nbconvert_exporter": "python",
   "pygments_lexer": "ipython3",
   "version": "3.10.12"
  }
 },
 "nbformat": 4,
 "nbformat_minor": 2
}
