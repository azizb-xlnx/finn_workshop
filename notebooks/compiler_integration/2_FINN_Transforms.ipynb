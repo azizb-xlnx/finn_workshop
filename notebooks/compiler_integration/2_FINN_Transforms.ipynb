{
 "cells": [
  {
   "cell_type": "markdown",
   "metadata": {},
   "source": [
    "# FINN Transforms\n"
   ]
  },
  {
   "cell_type": "code",
   "execution_count": 20,
   "metadata": {},
   "outputs": [],
   "source": [
    "import torch\n",
    "from qonnx.core.modelwrapper import ModelWrapper\n",
    "from finn.util.visualization import showInNetron\n",
    "\n",
    "# Netron Port Settings\n",
    "iport=8083\n",
    "fport=8082\n",
    "\n",
    "IN_CH = 3\n",
    "OUT_CH = 128\n",
    "BATCH_SIZE = 1\n",
    "\n",
    "# set seed\n",
    "torch.manual_seed(0)\n",
    "inp = torch.randn(BATCH_SIZE, IN_CH)\n",
    "\n",
    "qlinear_path = 'quant_linear_qonnx.onnx'\n",
    "\n",
    "model = ModelWrapper(qlinear_path)\n"
   ]
  },
  {
   "cell_type": "markdown",
   "metadata": {},
   "source": [
    "# Configure FINN\n"
   ]
  },
  {
   "cell_type": "code",
   "execution_count": 8,
   "metadata": {},
   "outputs": [],
   "source": [
    "import finn.builder.build_dataflow_config as build_cfg\n",
    "\n",
    "cfg = build_cfg.DataflowBuildConfig(\n",
    "    verbose=True,\n",
    "    output_dir = \"output\",\n",
    "    fpga_part=\"xcvm1802-vsvd1760-2MP-e-S\",\n",
    "    synth_clk_period_ns=3.0,\n",
    "    generate_outputs=[],\n",
    ")\n"
   ]
  },
  {
   "cell_type": "markdown",
   "metadata": {},
   "source": [
    "# QONNX To FINN ONNX"
   ]
  },
  {
   "cell_type": "code",
   "execution_count": 24,
   "metadata": {},
   "outputs": [
    {
     "name": "stdout",
     "output_type": "stream",
     "text": [
      "Stopping http://0.0.0.0:8083\n",
      "Serving 'qonnx_2_finn.onnx' at http://0.0.0.0:8083\n"
     ]
    },
    {
     "data": {
      "text/html": [
       "\n",
       "        <iframe\n",
       "            width=\"100%\"\n",
       "            height=\"400\"\n",
       "            src=\"http://localhost:8082/\"\n",
       "            frameborder=\"0\"\n",
       "            allowfullscreen\n",
       "            \n",
       "        ></iframe>\n",
       "        "
      ],
      "text/plain": [
       "<IPython.lib.display.IFrame at 0x7fb84aff3460>"
      ]
     },
     "execution_count": 24,
     "metadata": {},
     "output_type": "execute_result"
    }
   ],
   "source": [
    "\n",
    "from finn.transformation.qonnx.convert_qonnx_to_finn import ConvertQONNXtoFINN\n",
    "from qonnx.util.cleanup import cleanup_model\n",
    "\n",
    "model = cleanup_model(model)\n",
    "model = model.transform(ConvertQONNXtoFINN())\n",
    "        \n",
    "model.save(\"qonnx_2_finn.onnx\")\n",
    "\n",
    "showInNetron(\"qonnx_2_finn.onnx\",localhost_url=\"localhost\", port=iport, forwarded_port=fport)\n"
   ]
  }
 ],
 "metadata": {
  "kernelspec": {
   "display_name": "Python 3 (ipykernel)",
   "language": "python",
   "name": "python3"
  },
  "language_info": {
   "codemirror_mode": {
    "name": "ipython",
    "version": 3
   },
   "file_extension": ".py",
   "mimetype": "text/x-python",
   "name": "python",
   "nbconvert_exporter": "python",
   "pygments_lexer": "ipython3",
   "version": "3.10.12"
  }
 },
 "nbformat": 4,
 "nbformat_minor": 2
}
